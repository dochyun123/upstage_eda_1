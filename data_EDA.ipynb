{
 "cells": [
  {
   "cell_type": "code",
   "execution_count": 92,
   "metadata": {},
   "outputs": [],
   "source": [
    "from python_EDA import search_fred\n",
    "treasury_diff = search_fred('T10Y2Y') # 장단기 금리차 10년-2년\n",
    "treasury_minus = treasury_diff.loc[treasury_diff.values<0] # 역전된 데이터\n",
    "treasury_minus.columns = ['10y-2y minus']"
   ]
  },
  {
   "cell_type": "code",
   "execution_count": 109,
   "metadata": {},
   "outputs": [
    {
     "name": "stdout",
     "output_type": "stream",
     "text": [
      "              stock price  10y-2y minus\n",
      "stock price      1.000000     -0.507538\n",
      "10y-2y minus    -0.507538      1.000000\n"
     ]
    }
   ],
   "source": [
    "import pandas as pd\n",
    "kr_stock = search_fred('SPASTT01KRM661N') # 한국 주가\n",
    "kr_stock.columns = ['stock price'] \n",
    "correlation_minus = kr_stock.merge(treasury_minus, left_index=True, right_index=True, how='inner') # 상관관계 지수\n",
    "print(correlation_minus.corr()) # 장단기 금리차가 역전된 값과 주가의 상관관계"
   ]
  },
  {
   "cell_type": "code",
   "execution_count": 108,
   "metadata": {},
   "outputs": [
    {
     "data": {
      "text/html": [
       "<div>\n",
       "<style scoped>\n",
       "    .dataframe tbody tr th:only-of-type {\n",
       "        vertical-align: middle;\n",
       "    }\n",
       "\n",
       "    .dataframe tbody tr th {\n",
       "        vertical-align: top;\n",
       "    }\n",
       "\n",
       "    .dataframe thead th {\n",
       "        text-align: right;\n",
       "    }\n",
       "</style>\n",
       "<table border=\"1\" class=\"dataframe\">\n",
       "  <thead>\n",
       "    <tr style=\"text-align: right;\">\n",
       "      <th></th>\n",
       "      <th>stock price</th>\n",
       "      <th>0</th>\n",
       "    </tr>\n",
       "  </thead>\n",
       "  <tbody>\n",
       "    <tr>\n",
       "      <th>stock price</th>\n",
       "      <td>1.00000</td>\n",
       "      <td>-0.06674</td>\n",
       "    </tr>\n",
       "    <tr>\n",
       "      <th>0</th>\n",
       "      <td>-0.06674</td>\n",
       "      <td>1.00000</td>\n",
       "    </tr>\n",
       "  </tbody>\n",
       "</table>\n",
       "</div>"
      ],
      "text/plain": [
       "             stock price        0\n",
       "stock price      1.00000 -0.06674\n",
       "0               -0.06674  1.00000"
      ]
     },
     "execution_count": 108,
     "metadata": {},
     "output_type": "execute_result"
    }
   ],
   "source": [
    "kr_stock.merge(treasury_diff,left_index=True, right_index=True, how='inner').corr()  # 장단기 금리차와 주가 상관관계"
   ]
  },
  {
   "cell_type": "code",
   "execution_count": null,
   "metadata": {},
   "outputs": [],
   "source": []
  },
  {
   "cell_type": "code",
   "execution_count": null,
   "metadata": {},
   "outputs": [],
   "source": []
  }
 ],
 "metadata": {
  "kernelspec": {
   "display_name": "mushroom",
   "language": "python",
   "name": "python3"
  },
  "language_info": {
   "codemirror_mode": {
    "name": "ipython",
    "version": 3
   },
   "file_extension": ".py",
   "mimetype": "text/x-python",
   "name": "python",
   "nbconvert_exporter": "python",
   "pygments_lexer": "ipython3",
   "version": "3.8.18"
  }
 },
 "nbformat": 4,
 "nbformat_minor": 2
}
